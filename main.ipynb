{
 "cells": [
  {
   "cell_type": "code",
   "execution_count": 47,
   "id": "a631d47c",
   "metadata": {},
   "outputs": [],
   "source": [
    "import numpy as np \n",
    "import pandas as pd \n",
    "import re \n",
    "import nltk \n",
    "from sklearn import preprocessing\n",
    "from sklearn.model_selection import train_test_split\n",
    "from sklearn.feature_extraction.text import CountVectorizer\n",
    "from sklearn.naive_bayes import MultinomialNB\n",
    "from sklearn.metrics import classification_report\n",
    "from sklearn.feature_extraction.text import TfidfVectorizer\n",
    "import seaborn as sns\n",
    "import matplotlib.pyplot as plt\n"
   ]
  },
  {
   "cell_type": "code",
   "execution_count": 7,
   "id": "2b447fda",
   "metadata": {},
   "outputs": [],
   "source": [
    "def preprocess_string(str_arg):\n",
    "    \n",
    "    cleaned_str=re.sub('[^a-z\\s]+',' ',str_arg,flags=re.IGNORECASE) \n",
    "    cleaned_str=re.sub('(\\s+)',' ',cleaned_str) \n",
    "    cleaned_str=cleaned_str.lower() \n",
    "    \n",
    "    return cleaned_str \n",
    "##https://gist.github.com/aishajv/6b719b5509ce185de85c1b5b6cda2042"
   ]
  },
  {
   "cell_type": "code",
   "execution_count": 38,
   "id": "a8a054de",
   "metadata": {},
   "outputs": [
    {
     "name": "stdout",
     "output_type": "stream",
     "text": [
      "['Clothing', 'Furniture', 'Footwear', 'Pet Supplies', 'Pens & Stationery', 'Sports & Fitness', 'Beauty and Personal Care', 'Bags, Wallets & Belts', 'Home Decor & Festive Needs', 'Automotive', 'Tools & Hardware', 'Vishudh Printed Women\\'s Straight Kurta\"]', 'Home Furnishing', 'Baby Care', 'Mobiles & Accessories', 'Watches', 'Toys & School Supplies', 'Jewellery', 'Kitchen & Dining', 'Home & Kitchen', 'Computers', 'Cameras & Accessories', 'Health & Personal Care Appliances', 'Gaming', 'Home Improvement', 'Sunglasses', 'Home Entertainment', 'Clovia Women\\'s Full Coverage Bra\"]', 'Eyewear', 'eBooks']\n"
     ]
    }
   ],
   "source": [
    "\n",
    "\n",
    "product_df = pd.read_csv('data1.csv')\n",
    "\n",
    "product_df['product_category_tree'] = product_df['product_category_tree'].apply(lambda x : x.split('>>')[0][2:].strip())\n",
    "\n",
    "eg = list(product_df.groupby('product_category_tree').count().sort_values(by='uniq_id',ascending=False).head(30).index)\n",
    "\n",
    "processed_df = product_df[import_df['product_category_tree'].isin(eg)][['product_category_tree','description']]\n",
    "\n",
    "processed_df['description'] = processed_df['description'].astype('str').apply(preprocess_string)\n",
    "\n",
    "my_list = list(processed_df['product_category_tree'].unique())\n",
    "print(my_list)\n",
    "ft = preprocessing.LabelEncoder()\n",
    "result = ft.fit_transform(processed_df['product_category_tree'])\n",
    "processed_df['product_category_tree'] = result\n"
   ]
  },
  {
   "cell_type": "code",
   "execution_count": 39,
   "id": "4f11cee2",
   "metadata": {},
   "outputs": [],
   "source": [
    "\n",
    "\n",
    "X_train, X_test, y_train, y_test = train_test_split(processed_df['description'],processed_df['product_category_tree'],test_size=0.25)"
   ]
  },
  {
   "cell_type": "code",
   "execution_count": 62,
   "id": "ebf9d4a8",
   "metadata": {},
   "outputs": [
    {
     "name": "stdout",
     "output_type": "stream",
     "text": [
      "['Clothing', 'Furniture', 'Footwear', 'Pet Supplies', 'Pens & Stationery', 'Sports & Fitness', 'Beauty and Personal Care', 'Bags, Wallets & Belts', 'Home Decor & Festive Needs', 'Automotive', 'Tools & Hardware', 'Vishudh Printed Women\\'s Straight Kurta\"]', 'Home Furnishing', 'Baby Care', 'Mobiles & Accessories', 'Watches', 'Toys & School Supplies', 'Jewellery', 'Kitchen & Dining', 'Home & Kitchen', 'Computers', 'Cameras & Accessories', 'Health & Personal Care Appliances', 'Gaming', 'Home Improvement', 'Sunglasses', 'Home Entertainment', 'Clovia Women\\'s Full Coverage Bra\"]', 'Eyewear', 'eBooks']\n"
     ]
    }
   ],
   "source": [
    "data_df = pd.read_csv(\"data1.csv\")\n",
    "result = data_df['product_category_tree']\n",
    "def spliting (myList):\n",
    "    myList = [i.split(\" >> \")[0][2:].strip() for i in myList ]\n",
    "    return(myList)\n",
    "final = spliting(data_df.groupby('product_category_tree').count().sort_values(by='uniq_id',ascending=False).head(30).index)\n",
    "data_df = product_df[import_df['product_category_tree'].isin(eg)][['product_category_tree','description']]\n",
    "\n",
    "data_df['description'] = data_df['description'].astype('str').apply(preprocess_string)\n",
    "\n",
    "my_list = list(data_df['product_category_tree'].unique())\n",
    "print(my_list)\n",
    "ft = preprocessing.LabelEncoder()\n",
    "fb = ft.fit_transform(data_df['product_category_tree'])\n",
    "data_df['product_category_tree'] = fb\n"
   ]
  },
  {
   "cell_type": "code",
   "execution_count": 63,
   "id": "5d42d9fc",
   "metadata": {},
   "outputs": [],
   "source": [
    "vect = CountVectorizer(stop_words = 'english')\n",
    "X_train_matrix = vect.fit_transform(X_train) \n"
   ]
  },
  {
   "cell_type": "code",
   "execution_count": 64,
   "id": "1c84d1b0",
   "metadata": {},
   "outputs": [
    {
     "name": "stdout",
     "output_type": "stream",
     "text": [
      "0.9506775067750678\n",
      "0.9276422764227642\n",
      "              precision    recall  f1-score   support\n",
      "\n",
      "           0       0.91      0.98      0.95       262\n",
      "           1       0.83      0.63      0.72       124\n",
      "           2       0.76      0.53      0.63        60\n",
      "           3       0.83      0.92      0.87       182\n",
      "           4       1.00      0.31      0.47        26\n",
      "           5       0.98      0.99      0.98      1576\n",
      "           6       0.00      0.00      0.00         1\n",
      "           7       0.86      0.77      0.81       148\n",
      "           8       0.00      0.00      0.00         1\n",
      "           9       0.98      0.97      0.98       330\n",
      "          10       1.00      0.91      0.96        47\n",
      "          11       0.71      0.62      0.67         8\n",
      "          12       1.00      0.56      0.71         9\n",
      "          13       1.00      0.22      0.36         9\n",
      "          14       0.91      0.98      0.94       224\n",
      "          15       0.00      0.00      0.00         4\n",
      "          16       0.94      0.99      0.96       164\n",
      "          17       1.00      0.37      0.54        19\n",
      "          18       0.88      1.00      0.94       874\n",
      "          19       0.96      0.91      0.93       148\n",
      "          20       0.97      0.88      0.92       279\n",
      "          21       0.82      0.57      0.67        70\n",
      "          22       1.00      0.38      0.55         8\n",
      "          23       0.90      0.47      0.62        40\n",
      "          24       1.00      1.00      1.00        10\n",
      "          25       0.95      0.96      0.95        96\n",
      "          26       0.76      0.72      0.74        83\n",
      "          27       0.00      0.00      0.00         2\n",
      "          28       0.94      0.99      0.97       112\n",
      "          29       1.00      0.50      0.67         4\n",
      "\n",
      "    accuracy                           0.93      4920\n",
      "   macro avg       0.80      0.64      0.68      4920\n",
      "weighted avg       0.93      0.93      0.92      4920\n",
      "\n"
     ]
    },
    {
     "name": "stderr",
     "output_type": "stream",
     "text": [
      "E:\\Srinivas\\soft\\lib\\site-packages\\sklearn\\metrics\\_classification.py:1245: UndefinedMetricWarning: Precision and F-score are ill-defined and being set to 0.0 in labels with no predicted samples. Use `zero_division` parameter to control this behavior.\n",
      "  _warn_prf(average, modifier, msg_start, len(result))\n",
      "E:\\Srinivas\\soft\\lib\\site-packages\\sklearn\\metrics\\_classification.py:1245: UndefinedMetricWarning: Precision and F-score are ill-defined and being set to 0.0 in labels with no predicted samples. Use `zero_division` parameter to control this behavior.\n",
      "  _warn_prf(average, modifier, msg_start, len(result))\n",
      "E:\\Srinivas\\soft\\lib\\site-packages\\sklearn\\metrics\\_classification.py:1245: UndefinedMetricWarning: Precision and F-score are ill-defined and being set to 0.0 in labels with no predicted samples. Use `zero_division` parameter to control this behavior.\n",
      "  _warn_prf(average, modifier, msg_start, len(result))\n"
     ]
    }
   ],
   "source": [
    "mat=MultinomialNB()\n",
    "mat.fit(X_train_matrix, y_train)\n",
    "print(clf.score(X_train_matrix, y_train))\n",
    "X_test_matrix = vect.transform(X_test) \n",
    "print (clf.score(X_test_matrix, y_test))\n",
    "predicted_result=mat.predict(X_test_matrix)\n",
    "print(classification_report(y_test,predicted_result))\n"
   ]
  },
  {
   "cell_type": "code",
   "execution_count": 44,
   "id": "039cb7bf",
   "metadata": {},
   "outputs": [],
   "source": [
    "vectorizer = TfidfVectorizer(stop_words = 'english')\n",
    "X_train_tfidf = vectorizer.fit_transform(X_train)\n"
   ]
  },
  {
   "cell_type": "code",
   "execution_count": 65,
   "id": "2d7d0ca5",
   "metadata": {},
   "outputs": [
    {
     "name": "stdout",
     "output_type": "stream",
     "text": [
      "0.8783875338753387\n",
      "0.8552845528455284\n"
     ]
    }
   ],
   "source": [
    "mat2=MultinomialNB()\n",
    "mat2.fit(X_train_tfidf, y_train)\n",
    "print(mat2.score(X_train_tfidf, y_train))\n",
    "X_test_tfidf = vectorizer.transform(X_test) \n",
    "print (clf2.score(X_test_tfidf, y_test))\n"
   ]
  },
  {
   "cell_type": "code",
   "execution_count": 46,
   "id": "e9eabbbd",
   "metadata": {},
   "outputs": [
    {
     "data": {
      "text/plain": [
       "array(['Mobiles & Accessories'], dtype=object)"
      ]
     },
     "execution_count": 46,
     "metadata": {},
     "output_type": "execute_result"
    }
   ],
   "source": [
    "\n",
    "le.inverse_transform(clf.predict(vect.transform(['phone'])))"
   ]
  },
  {
   "cell_type": "code",
   "execution_count": null,
   "id": "155ecee8",
   "metadata": {},
   "outputs": [],
   "source": []
  }
 ],
 "metadata": {
  "kernelspec": {
   "display_name": "Python 3",
   "language": "python",
   "name": "python3"
  },
  "language_info": {
   "codemirror_mode": {
    "name": "ipython",
    "version": 3
   },
   "file_extension": ".py",
   "mimetype": "text/x-python",
   "name": "python",
   "nbconvert_exporter": "python",
   "pygments_lexer": "ipython3",
   "version": "3.8.5"
  }
 },
 "nbformat": 4,
 "nbformat_minor": 5
}
